{
 "cells": [
  {
   "cell_type": "markdown",
   "id": "929c80a6",
   "metadata": {},
   "source": [
    "# Group Project Exploratory \n",
    "\n",
    "This notebook is used for exploring the group project dataset.\n"
   ]
  },
  {
   "cell_type": "code",
   "execution_count": 2,
   "id": "8f40a744",
   "metadata": {
    "ExecuteTime": {
     "end_time": "2024-10-08T01:58:15.761291Z",
     "start_time": "2024-10-08T01:58:15.743146Z"
    }
   },
   "outputs": [],
   "source": [
    "import pandas as pd\n",
    "import numpy as np\n",
    "\n"
   ]
  },
  {
   "cell_type": "code",
   "execution_count": 4,
   "id": "9a18c5b6",
   "metadata": {
    "ExecuteTime": {
     "end_time": "2024-10-08T01:58:34.214107Z",
     "start_time": "2024-10-08T01:58:34.188697Z"
    }
   },
   "outputs": [],
   "source": [
    "date = '10/7/2024'\n"
   ]
  },
  {
   "cell_type": "code",
   "execution_count": 5,
   "id": "987ae9b7",
   "metadata": {
    "ExecuteTime": {
     "end_time": "2024-10-08T01:58:41.477101Z",
     "start_time": "2024-10-08T01:58:35.450824Z"
    }
   },
   "outputs": [
    {
     "name": "stderr",
     "output_type": "stream",
     "text": [
      "\n",
      "KeyboardInterrupt\n",
      "\n"
     ]
    }
   ],
   "source": [
    "df = pd.read_csv()"
   ]
  },
  {
   "cell_type": "code",
   "execution_count": null,
   "id": "bae4be20",
   "metadata": {},
   "outputs": [],
   "source": [
    "con = \n",
    "df = pd.to_sql()"
   ]
  },
  {
   "cell_type": "code",
   "execution_count": null,
   "id": "02a16791",
   "metadata": {},
   "outputs": [],
   "source": [
    "df.info()"
   ]
  }
 ],
 "metadata": {
  "kernelspec": {
   "display_name": "Python 3 (ipykernel)",
   "language": "python",
   "name": "python3"
  },
  "language_info": {
   "codemirror_mode": {
    "name": "ipython",
    "version": 3
   },
   "file_extension": ".py",
   "mimetype": "text/x-python",
   "name": "python",
   "nbconvert_exporter": "python",
   "pygments_lexer": "ipython3",
   "version": "3.8.18"
  },
  "latex_envs": {
   "LaTeX_envs_menu_present": true,
   "autoclose": false,
   "autocomplete": true,
   "bibliofile": "biblio.bib",
   "cite_by": "apalike",
   "current_citInitial": 1,
   "eqLabelWithNumbers": true,
   "eqNumInitial": 1,
   "hotkeys": {
    "equation": "Ctrl-E",
    "itemize": "Ctrl-I"
   },
   "labels_anchors": false,
   "latex_user_defs": false,
   "report_style_numbering": false,
   "user_envs_cfg": false
  },
  "toc": {
   "base_numbering": 1,
   "nav_menu": {},
   "number_sections": true,
   "sideBar": true,
   "skip_h1_title": false,
   "title_cell": "Table of Contents",
   "title_sidebar": "Contents",
   "toc_cell": false,
   "toc_position": {},
   "toc_section_display": true,
   "toc_window_display": false
  }
 },
 "nbformat": 4,
 "nbformat_minor": 5
}
