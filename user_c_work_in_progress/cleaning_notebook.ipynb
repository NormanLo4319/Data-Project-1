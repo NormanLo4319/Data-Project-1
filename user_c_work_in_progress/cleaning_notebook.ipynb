{
 "cells": [
  {
   "cell_type": "markdown",
   "metadata": {},
   "source": [
    "## Data Cleaning\n",
    "\n",
    "The objective of this notebook is to clean the project data set for analytic purpose. \n",
    "- Rename columns if necessary\n",
    "- Identify outliers\n",
    "- Impute any missing values with domain knowledge\n",
    "- Identify missing values\n",
    "- Create new field if needed"
   ]
  },
  {
   "cell_type": "code",
   "execution_count": 1,
   "metadata": {},
   "outputs": [],
   "source": [
    "import pandas as pd\n",
    "import numpy as np\n",
    "import matplotlib.pyplot as plt\n",
    "import seaborn as sns"
   ]
  },
  {
   "cell_type": "code",
   "execution_count": 2,
   "metadata": {},
   "outputs": [
    {
     "name": "stderr",
     "output_type": "stream",
     "text": [
      "C:\\Users\\Norman\\AppData\\Local\\Temp\\ipykernel_2432\\3940787274.py:2: DtypeWarning: Columns (1,2,5,9,10,12,13,15,17,18,19,24,25) have mixed types. Specify dtype option on import or set low_memory=False.\n",
      "  df = pd.read_csv('../data/crime.csv')\n"
     ]
    }
   ],
   "source": [
    "# import data for cleaning\n",
    "df = pd.read_csv('../data/crime.csv')\n",
    "df = df.loc[~df['DR_NO'].isnull()]"
   ]
  },
  {
   "cell_type": "code",
   "execution_count": 3,
   "metadata": {},
   "outputs": [
    {
     "name": "stdout",
     "output_type": "stream",
     "text": [
      "<class 'pandas.core.frame.DataFrame'>\n",
      "Index: 50397 entries, 0 to 50396\n",
      "Data columns (total 28 columns):\n",
      " #   Column          Non-Null Count  Dtype  \n",
      "---  ------          --------------  -----  \n",
      " 0   DR_NO           50397 non-null  float64\n",
      " 1   Date Rptd       50397 non-null  object \n",
      " 2   DATE OCC        50397 non-null  object \n",
      " 3   TIME OCC        50397 non-null  float64\n",
      " 4   AREA            50397 non-null  float64\n",
      " 5   AREA NAME       50397 non-null  object \n",
      " 6   Rpt Dist No     50397 non-null  float64\n",
      " 7   Part 1-2        50397 non-null  float64\n",
      " 8   Crm Cd          50397 non-null  float64\n",
      " 9   Crm Cd Desc     50397 non-null  object \n",
      " 10  Mocodes         43598 non-null  object \n",
      " 11  Vict Age        50397 non-null  float64\n",
      " 12  Vict Sex        43944 non-null  object \n",
      " 13  Vict Descent    43942 non-null  object \n",
      " 14  Premis Cd       50396 non-null  float64\n",
      " 15  Premis Desc     50375 non-null  object \n",
      " 16  Weapon Used Cd  18221 non-null  float64\n",
      " 17  Weapon Desc     18221 non-null  object \n",
      " 18  Status          50397 non-null  object \n",
      " 19  Status Desc     50397 non-null  object \n",
      " 20  Crm Cd 1        50396 non-null  float64\n",
      " 21  Crm Cd 2        4081 non-null   float64\n",
      " 22  Crm Cd 3        140 non-null    float64\n",
      " 23  Crm Cd 4        6 non-null      float64\n",
      " 24  LOCATION        50397 non-null  object \n",
      " 25  Cross Street    8680 non-null   object \n",
      " 26  LAT             50397 non-null  float64\n",
      " 27  LON             50397 non-null  float64\n",
      "dtypes: float64(15), object(13)\n",
      "memory usage: 11.2+ MB\n"
     ]
    }
   ],
   "source": [
    "df.info()"
   ]
  },
  {
   "cell_type": "markdown",
   "metadata": {},
   "source": [
    "### Rename Columns"
   ]
  },
  {
   "cell_type": "code",
   "execution_count": 4,
   "metadata": {},
   "outputs": [],
   "source": [
    "# replace column names with standardize format\n",
    "col_names = {'DR_NO':'crimeID',\n",
    "             'Date Rptd':'reportDate',\n",
    "             'DATE OCC':'eventDate',\n",
    "             'TIME OCC':'eventTime',\n",
    "             'AREA NAME':'areaName',\n",
    "             'Crm Cd Desc':'crimeDesc',\n",
    "             'Vict Age':'victimAge',\n",
    "             'Vict Sex':'victimSex',\n",
    "             'Premis Desc':'permisDesc',\n",
    "             'Status Desc':'statusDesc',\n",
    "             'LAT':'lat',\n",
    "             'LON':'lon'}\n",
    "\n",
    "col = ['DR_NO', 'Date Rptd', 'DATE OCC', 'TIME OCC',\n",
    "        'AREA NAME', 'Crm Cd Desc', 'Vict Age', 'Vict Sex',\n",
    "        'Premis Desc', 'Status Desc', 'LAT', 'LON']\n",
    "\n",
    "rename = df[col].rename(columns=col_names)"
   ]
  },
  {
   "cell_type": "code",
   "execution_count": 5,
   "metadata": {},
   "outputs": [
    {
     "data": {
      "text/html": [
       "<div>\n",
       "<style scoped>\n",
       "    .dataframe tbody tr th:only-of-type {\n",
       "        vertical-align: middle;\n",
       "    }\n",
       "\n",
       "    .dataframe tbody tr th {\n",
       "        vertical-align: top;\n",
       "    }\n",
       "\n",
       "    .dataframe thead th {\n",
       "        text-align: right;\n",
       "    }\n",
       "</style>\n",
       "<table border=\"1\" class=\"dataframe\">\n",
       "  <thead>\n",
       "    <tr style=\"text-align: right;\">\n",
       "      <th></th>\n",
       "      <th>crimeID</th>\n",
       "      <th>reportDate</th>\n",
       "      <th>eventDate</th>\n",
       "      <th>eventTime</th>\n",
       "      <th>areaName</th>\n",
       "      <th>crimeDesc</th>\n",
       "      <th>victimAge</th>\n",
       "      <th>victimSex</th>\n",
       "      <th>permisDesc</th>\n",
       "      <th>statusDesc</th>\n",
       "      <th>lat</th>\n",
       "      <th>lon</th>\n",
       "    </tr>\n",
       "  </thead>\n",
       "  <tbody>\n",
       "    <tr>\n",
       "      <th>0</th>\n",
       "      <td>190326475.0</td>\n",
       "      <td>3/1/2020 0:00</td>\n",
       "      <td>3/1/2020 0:00</td>\n",
       "      <td>2130.0</td>\n",
       "      <td>Wilshire</td>\n",
       "      <td>VEHICLE - STOLEN</td>\n",
       "      <td>0.0</td>\n",
       "      <td>M</td>\n",
       "      <td>STREET</td>\n",
       "      <td>Adult Arrest</td>\n",
       "      <td>34.0375</td>\n",
       "      <td>-118.3506</td>\n",
       "    </tr>\n",
       "    <tr>\n",
       "      <th>1</th>\n",
       "      <td>200106753.0</td>\n",
       "      <td>2/9/2020 0:00</td>\n",
       "      <td>2/8/2020 0:00</td>\n",
       "      <td>1800.0</td>\n",
       "      <td>Central</td>\n",
       "      <td>BURGLARY FROM VEHICLE</td>\n",
       "      <td>47.0</td>\n",
       "      <td>M</td>\n",
       "      <td>BUS STOP/LAYOVER (ALSO QUERY 124)</td>\n",
       "      <td>Invest Cont</td>\n",
       "      <td>34.0444</td>\n",
       "      <td>-118.2628</td>\n",
       "    </tr>\n",
       "    <tr>\n",
       "      <th>2</th>\n",
       "      <td>200320258.0</td>\n",
       "      <td>11/11/2020 0:00</td>\n",
       "      <td>11/4/2020 0:00</td>\n",
       "      <td>1700.0</td>\n",
       "      <td>Southwest</td>\n",
       "      <td>BIKE - STOLEN</td>\n",
       "      <td>19.0</td>\n",
       "      <td>X</td>\n",
       "      <td>MULTI-UNIT DWELLING (APARTMENT, DUPLEX, ETC)</td>\n",
       "      <td>Invest Cont</td>\n",
       "      <td>34.0210</td>\n",
       "      <td>-118.3002</td>\n",
       "    </tr>\n",
       "    <tr>\n",
       "      <th>3</th>\n",
       "      <td>200907217.0</td>\n",
       "      <td>5/10/2023 0:00</td>\n",
       "      <td>3/10/2020 0:00</td>\n",
       "      <td>2037.0</td>\n",
       "      <td>Van Nuys</td>\n",
       "      <td>SHOPLIFTING-GRAND THEFT ($950.01 &amp; OVER)</td>\n",
       "      <td>19.0</td>\n",
       "      <td>M</td>\n",
       "      <td>CLOTHING STORE</td>\n",
       "      <td>Invest Cont</td>\n",
       "      <td>34.1576</td>\n",
       "      <td>-118.4387</td>\n",
       "    </tr>\n",
       "    <tr>\n",
       "      <th>4</th>\n",
       "      <td>220614831.0</td>\n",
       "      <td>8/18/2022 0:00</td>\n",
       "      <td>8/17/2020 0:00</td>\n",
       "      <td>1200.0</td>\n",
       "      <td>Hollywood</td>\n",
       "      <td>THEFT OF IDENTITY</td>\n",
       "      <td>28.0</td>\n",
       "      <td>M</td>\n",
       "      <td>SIDEWALK</td>\n",
       "      <td>Invest Cont</td>\n",
       "      <td>34.0944</td>\n",
       "      <td>-118.3277</td>\n",
       "    </tr>\n",
       "  </tbody>\n",
       "</table>\n",
       "</div>"
      ],
      "text/plain": [
       "       crimeID       reportDate       eventDate  eventTime   areaName  \\\n",
       "0  190326475.0    3/1/2020 0:00   3/1/2020 0:00     2130.0   Wilshire   \n",
       "1  200106753.0    2/9/2020 0:00   2/8/2020 0:00     1800.0    Central   \n",
       "2  200320258.0  11/11/2020 0:00  11/4/2020 0:00     1700.0  Southwest   \n",
       "3  200907217.0   5/10/2023 0:00  3/10/2020 0:00     2037.0   Van Nuys   \n",
       "4  220614831.0   8/18/2022 0:00  8/17/2020 0:00     1200.0  Hollywood   \n",
       "\n",
       "                                  crimeDesc  victimAge victimSex  \\\n",
       "0                          VEHICLE - STOLEN        0.0         M   \n",
       "1                     BURGLARY FROM VEHICLE       47.0         M   \n",
       "2                             BIKE - STOLEN       19.0         X   \n",
       "3  SHOPLIFTING-GRAND THEFT ($950.01 & OVER)       19.0         M   \n",
       "4                         THEFT OF IDENTITY       28.0         M   \n",
       "\n",
       "                                     permisDesc    statusDesc      lat  \\\n",
       "0                                        STREET  Adult Arrest  34.0375   \n",
       "1             BUS STOP/LAYOVER (ALSO QUERY 124)   Invest Cont  34.0444   \n",
       "2  MULTI-UNIT DWELLING (APARTMENT, DUPLEX, ETC)   Invest Cont  34.0210   \n",
       "3                                CLOTHING STORE   Invest Cont  34.1576   \n",
       "4                                      SIDEWALK   Invest Cont  34.0944   \n",
       "\n",
       "        lon  \n",
       "0 -118.3506  \n",
       "1 -118.2628  \n",
       "2 -118.3002  \n",
       "3 -118.4387  \n",
       "4 -118.3277  "
      ]
     },
     "execution_count": 5,
     "metadata": {},
     "output_type": "execute_result"
    }
   ],
   "source": [
    "rename.head()"
   ]
  },
  {
   "cell_type": "markdown",
   "metadata": {},
   "source": [
    "### Identify and Replace Outliers\n",
    "\n",
    "- Victim age should not be 0, negative, nor over 100"
   ]
  },
  {
   "cell_type": "code",
   "execution_count": 6,
   "metadata": {},
   "outputs": [
    {
     "data": {
      "text/plain": [
       "<Axes: xlabel='victimAge', ylabel='Count'>"
      ]
     },
     "execution_count": 6,
     "metadata": {},
     "output_type": "execute_result"
    },
    {
     "data": {
      "image/png": "[encoded data removed]",
      "text/plain": [
       "<Figure size 640x480 with 1 Axes>"
      ]
     },
     "metadata": {},
     "output_type": "display_data"
    }
   ],
   "source": [
    "sns.histplot(data=rename, x='victimAge')"
   ]
  },
  {
   "cell_type": "markdown",
   "metadata": {},
   "source": [
    "Three simple options to handle such issue:\n",
    "1. replace all outliers with NULL (wasting data)\n",
    "2. replace all outliers with some representable values (mean, median, mode)\n",
    "3. replace all outliers with some modeled estimation \n",
    "\n",
    "There are many technical ways to handle outliers, please dig into it youself.  "
   ]
  },
  {
   "cell_type": "code",
   "execution_count": 7,
   "metadata": {},
   "outputs": [],
   "source": [
    "# replace outliers with median\n",
    "median = rename['victimAge'].median()\n",
    "outliers = rename\n",
    "outliers.loc[(outliers['victimAge']<=0) | (outliers['victimAge']>80), 'victimAge'] = median\n"
   ]
  },
  {
   "cell_type": "markdown",
   "metadata": {},
   "source": [
    "### Identify and Replace Any Missing Value\n",
    "\n",
    "- Victim sex contains missing values"
   ]
  },
  {
   "cell_type": "code",
   "execution_count": 13,
   "metadata": {},
   "outputs": [
    {
     "name": "stdout",
     "output_type": "stream",
     "text": [
      "Total Number of Missing: 6453\n"
     ]
    }
   ],
   "source": [
    "print(f\"Total Number of Missing: {outliers.loc[outliers['victimSex'].isnull()]['crimeID'].count()}\")"
   ]
  },
  {
   "cell_type": "markdown",
   "metadata": {},
   "source": [
    "Again, there are many different technical methods to replace missing value. You should explore different methods that best fit for the scenario. "
   ]
  },
  {
   "cell_type": "code",
   "execution_count": 8,
   "metadata": {},
   "outputs": [],
   "source": [
    "# replace missing values with mode\n",
    "crime_mode = outliers.groupby('crimeDesc', as_index=False)['victimSex'].value_counts()\n",
    "crime_max = crime_mode.groupby('crimeDesc', as_index=False)['count'].max()\n",
    "victim_sex = (crime_mode.merge(crime_max, \n",
    "                              on=['crimeDesc', 'count'], \n",
    "                              how='inner')[['crimeDesc', 'victimSex']]\n",
    "                              .rename(columns={'victimSex':'sex'})\n",
    ")\n",
    "\n",
    "missing = outliers.merge(victim_sex, on='crimeDesc', how='left')\n",
    "missing.loc[missing['victimSex'].isnull(), 'victimSex'] = missing['sex']\n",
    "missing = missing.drop(columns=['sex'])\n"
   ]
  },
  {
   "cell_type": "markdown",
   "metadata": {},
   "source": [
    "### Create a New Field for Analytic\n",
    "\n",
    "- Track how long people report the crime after happended\n"
   ]
  },
  {
   "cell_type": "code",
   "execution_count": 9,
   "metadata": {},
   "outputs": [],
   "source": [
    "# calculate the days of report after the crime happended\n",
    "missing['reportDate'] = pd.to_datetime(missing['reportDate'])\n",
    "missing['eventDate'] = pd.to_datetime(missing['eventDate'])\n",
    "missing['dayDiff'] = missing['reportDate'] - missing['eventDate']\n"
   ]
  },
  {
   "cell_type": "markdown",
   "metadata": {},
   "source": [
    "### End of the cleaning process  \n",
    "\n",
    "As a professional, you may want to add some data checker at the end of the process to make sure the data behave as expected. "
   ]
  },
  {
   "cell_type": "code",
   "execution_count": 14,
   "metadata": {},
   "outputs": [],
   "source": [
    "assert missing['victimAge'].max()<=80, 'Victim Age is over 80'\n",
    "assert missing['victimAge'].min()>0, 'Victim Age is equal or less than 0' "
   ]
  },
  {
   "cell_type": "code",
   "execution_count": null,
   "metadata": {},
   "outputs": [],
   "source": []
  }
 ],
 "metadata": {
  "kernelspec": {
   "display_name": "Python 3",
   "language": "python",
   "name": "python3"
  },
  "language_info": {
   "codemirror_mode": {
    "name": "ipython",
    "version": 3
   },
   "file_extension": ".py",
   "mimetype": "text/x-python",
   "name": "python",
   "nbconvert_exporter": "python",
   "pygments_lexer": "ipython3",
   "version": "3.9.1"
  }
 },
 "nbformat": 4,
 "nbformat_minor": 2
}
